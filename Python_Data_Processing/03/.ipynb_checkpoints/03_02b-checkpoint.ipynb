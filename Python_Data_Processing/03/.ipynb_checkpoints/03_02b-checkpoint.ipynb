{
 "cells": [
  {
   "cell_type": "markdown",
   "metadata": {},
   "source": [
    "# How to Summarize Data in Python"
   ]
  },
  {
   "cell_type": "markdown",
   "metadata": {},
   "source": [
    "## Learning Objectives\n",
    "When exploring data, one of the most important things we can do is summarize it so we can better understand it. A common way to summarize data is by computing aggregations such as mean, median, maximum and minimum. These aggregations or statistical measures (as they are commonly referred to) describe the general and specific characteristics of our data. This is why these types of aggregations are sometimes referred to as **descriptive statistics** or **summary statistics**. The pandas DataFrame provides several methods for computing descriptive statistics. By the end of this tutorial, you will have learned:\n",
    "\n",
    "+ how to describe a DataFrame\n",
    "+ how to get simple aggregations\n",
    "+ how to get group-level aggregations"
   ]
  },
  {
   "cell_type": "markdown",
   "metadata": {},
   "source": [
    "## How to Describe a DataFrame"
   ]
  },
  {
   "cell_type": "code",
   "execution_count": 2,
   "metadata": {},
   "outputs": [],
   "source": [
    "import pandas as pd\n",
    "washers = pd.read_csv(\"washers.csv\")\n"
   ]
  },
  {
   "cell_type": "code",
   "execution_count": 3,
   "metadata": {},
   "outputs": [
    {
     "data": {
      "text/html": [
       "<div>\n",
       "<style scoped>\n",
       "    .dataframe tbody tr th:only-of-type {\n",
       "        vertical-align: middle;\n",
       "    }\n",
       "\n",
       "    .dataframe tbody tr th {\n",
       "        vertical-align: top;\n",
       "    }\n",
       "\n",
       "    .dataframe thead th {\n",
       "        text-align: right;\n",
       "    }\n",
       "</style>\n",
       "<table border=\"1\" class=\"dataframe\">\n",
       "  <thead>\n",
       "    <tr style=\"text-align: right;\">\n",
       "      <th></th>\n",
       "      <th>ID</th>\n",
       "      <th>Volume</th>\n",
       "      <th>IMEF</th>\n",
       "      <th>MinimumIMEF</th>\n",
       "      <th>EnergyUse</th>\n",
       "      <th>IWF</th>\n",
       "      <th>MaximumIWF</th>\n",
       "      <th>WaterUse</th>\n",
       "    </tr>\n",
       "  </thead>\n",
       "  <tbody>\n",
       "    <tr>\n",
       "      <th>count</th>\n",
       "      <td>2.610000e+02</td>\n",
       "      <td>261.000000</td>\n",
       "      <td>261.000000</td>\n",
       "      <td>261.000000</td>\n",
       "      <td>261.000000</td>\n",
       "      <td>261.000000</td>\n",
       "      <td>261.000000</td>\n",
       "      <td>261.000000</td>\n",
       "    </tr>\n",
       "    <tr>\n",
       "      <th>mean</th>\n",
       "      <td>2.320802e+06</td>\n",
       "      <td>4.374713</td>\n",
       "      <td>2.456820</td>\n",
       "      <td>1.591341</td>\n",
       "      <td>129.214559</td>\n",
       "      <td>3.598851</td>\n",
       "      <td>6.372797</td>\n",
       "      <td>4632.727969</td>\n",
       "    </tr>\n",
       "    <tr>\n",
       "      <th>std</th>\n",
       "      <td>1.574793e+04</td>\n",
       "      <td>0.965866</td>\n",
       "      <td>0.380599</td>\n",
       "      <td>0.274261</td>\n",
       "      <td>43.850620</td>\n",
       "      <td>0.538265</td>\n",
       "      <td>1.845032</td>\n",
       "      <td>1292.693059</td>\n",
       "    </tr>\n",
       "    <tr>\n",
       "      <th>min</th>\n",
       "      <td>2.300602e+06</td>\n",
       "      <td>1.900000</td>\n",
       "      <td>2.060000</td>\n",
       "      <td>1.290000</td>\n",
       "      <td>60.000000</td>\n",
       "      <td>2.700000</td>\n",
       "      <td>4.700000</td>\n",
       "      <td>1728.000000</td>\n",
       "    </tr>\n",
       "    <tr>\n",
       "      <th>25%</th>\n",
       "      <td>2.310408e+06</td>\n",
       "      <td>4.300000</td>\n",
       "      <td>2.060000</td>\n",
       "      <td>1.290000</td>\n",
       "      <td>99.000000</td>\n",
       "      <td>3.200000</td>\n",
       "      <td>4.700000</td>\n",
       "      <td>3852.000000</td>\n",
       "    </tr>\n",
       "    <tr>\n",
       "      <th>50%</th>\n",
       "      <td>2.310499e+06</td>\n",
       "      <td>4.500000</td>\n",
       "      <td>2.380000</td>\n",
       "      <td>1.840000</td>\n",
       "      <td>120.000000</td>\n",
       "      <td>3.600000</td>\n",
       "      <td>4.700000</td>\n",
       "      <td>4429.000000</td>\n",
       "    </tr>\n",
       "    <tr>\n",
       "      <th>75%</th>\n",
       "      <td>2.332089e+06</td>\n",
       "      <td>5.000000</td>\n",
       "      <td>2.920000</td>\n",
       "      <td>1.840000</td>\n",
       "      <td>150.000000</td>\n",
       "      <td>4.300000</td>\n",
       "      <td>8.400000</td>\n",
       "      <td>5632.000000</td>\n",
       "    </tr>\n",
       "    <tr>\n",
       "      <th>max</th>\n",
       "      <td>2.359624e+06</td>\n",
       "      <td>6.200000</td>\n",
       "      <td>3.100000</td>\n",
       "      <td>1.840000</td>\n",
       "      <td>311.000000</td>\n",
       "      <td>4.300000</td>\n",
       "      <td>8.400000</td>\n",
       "      <td>7827.000000</td>\n",
       "    </tr>\n",
       "  </tbody>\n",
       "</table>\n",
       "</div>"
      ],
      "text/plain": [
       "                 ID      Volume        IMEF  MinimumIMEF   EnergyUse  \\\n",
       "count  2.610000e+02  261.000000  261.000000   261.000000  261.000000   \n",
       "mean   2.320802e+06    4.374713    2.456820     1.591341  129.214559   \n",
       "std    1.574793e+04    0.965866    0.380599     0.274261   43.850620   \n",
       "min    2.300602e+06    1.900000    2.060000     1.290000   60.000000   \n",
       "25%    2.310408e+06    4.300000    2.060000     1.290000   99.000000   \n",
       "50%    2.310499e+06    4.500000    2.380000     1.840000  120.000000   \n",
       "75%    2.332089e+06    5.000000    2.920000     1.840000  150.000000   \n",
       "max    2.359624e+06    6.200000    3.100000     1.840000  311.000000   \n",
       "\n",
       "              IWF  MaximumIWF     WaterUse  \n",
       "count  261.000000  261.000000   261.000000  \n",
       "mean     3.598851    6.372797  4632.727969  \n",
       "std      0.538265    1.845032  1292.693059  \n",
       "min      2.700000    4.700000  1728.000000  \n",
       "25%      3.200000    4.700000  3852.000000  \n",
       "50%      3.600000    4.700000  4429.000000  \n",
       "75%      4.300000    8.400000  5632.000000  \n",
       "max      4.300000    8.400000  7827.000000  "
      ]
     },
     "execution_count": 3,
     "metadata": {},
     "output_type": "execute_result"
    }
   ],
   "source": [
    "washers.describe()"
   ]
  },
  {
   "cell_type": "markdown",
   "metadata": {},
   "source": [
    "## How to get Simple Aggregations\n",
    "The `describe()` method returns a statistical summary for each of the columns in a DataFrame. It's important to note that the descriptive statistics returned by the `describe()` method depends on the data type of a column. For non-numeric columns, the descriptive statistics returned by the method are as follows:\n",
    "\n",
    "|Name      |   Description  |\n",
    "|-----------------|---------------------|\n",
    "| `count`         | Number of non-missing values                       |\n",
    "| `unique`       | Number of unique non-missing values                   |\n",
    "| `top`       | Most commonly occuring value   |\n",
    "| `freq`        | Frequency of the most commonly occuring value                   |\n"
   ]
  },
  {
   "cell_type": "code",
   "execution_count": null,
   "metadata": {},
   "outputs": [],
   "source": []
  },
  {
   "cell_type": "markdown",
   "metadata": {},
   "source": [
    "For numeric columns, the `describe()` method returns the following descriptive statistics:\n",
    "\n",
    "|Name      |   Description  |\n",
    "|-----------------|---------------------|\n",
    "| `count`         | Number of non-missing values                       |\n",
    "| `mean`       | Average of the non-missing values                   |\n",
    "| `std`       | Standard deviation of the values   |\n",
    "| `min`        | Smallest value                  |\n",
    "| `25%`         | 25th percentile                       |\n",
    "| `50%`       | 50th percentile (same as the median)                   |\n",
    "| `75%`       | 75th percentile   |\n",
    "| `max`        | Largest value                   |\n"
   ]
  },
  {
   "cell_type": "code",
   "execution_count": null,
   "metadata": {},
   "outputs": [],
   "source": []
  },
  {
   "cell_type": "code",
   "execution_count": null,
   "metadata": {},
   "outputs": [],
   "source": []
  },
  {
   "cell_type": "code",
   "execution_count": null,
   "metadata": {
    "scrolled": false
   },
   "outputs": [],
   "source": [
    "washers[['BrandName']].value_counts()"
   ]
  },
  {
   "cell_type": "code",
   "execution_count": null,
   "metadata": {
    "colab": {},
    "colab_type": "code",
    "id": "QOw8VY9dl_0e"
   },
   "outputs": [],
   "source": []
  },
  {
   "cell_type": "markdown",
   "metadata": {},
   "source": [
    "## How to get Group-level Aggregations"
   ]
  },
  {
   "cell_type": "code",
   "execution_count": null,
   "metadata": {
    "scrolled": false
   },
   "outputs": [],
   "source": []
  },
  {
   "cell_type": "code",
   "execution_count": null,
   "metadata": {},
   "outputs": [],
   "source": [
    "washers.groupby('BrandName')[['Volume']].mean()"
   ]
  },
  {
   "cell_type": "code",
   "execution_count": null,
   "metadata": {
    "scrolled": false
   },
   "outputs": [],
   "source": [
    "washers.groupby('BrandName')[['Volume']]"
   ]
  }
 ],
 "metadata": {
  "kernelspec": {
   "display_name": "Python 3 (ipykernel)",
   "language": "python",
   "name": "python3"
  },
  "language_info": {
   "codemirror_mode": {
    "name": "ipython",
    "version": 3
   },
   "file_extension": ".py",
   "mimetype": "text/x-python",
   "name": "python",
   "nbconvert_exporter": "python",
   "pygments_lexer": "ipython3",
   "version": "3.11.5"
  }
 },
 "nbformat": 4,
 "nbformat_minor": 4
}
