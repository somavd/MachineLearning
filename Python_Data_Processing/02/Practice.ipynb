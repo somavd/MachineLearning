{
 "cells": [
  {
   "cell_type": "code",
   "execution_count": 1,
   "id": "e44b4421",
   "metadata": {},
   "outputs": [],
   "source": [
    "import pandas as pd"
   ]
  },
  {
   "cell_type": "code",
   "execution_count": 2,
   "id": "f281c256",
   "metadata": {},
   "outputs": [],
   "source": [
    "data = pd.read_excel(\"brics.xlsx\")"
   ]
  },
  {
   "cell_type": "code",
   "execution_count": 3,
   "id": "e818110f",
   "metadata": {},
   "outputs": [
    {
     "name": "stdout",
     "output_type": "stream",
     "text": [
      "        country    capital    gdp  literacy  expectancy  population\n",
      "0        Brazil   Brasilia   2750     0.944        76.8      210.87\n",
      "1        Russia     Moscow   1658     0.997        72.7      143.96\n",
      "2         India  New Delhi   3202     0.721        68.8     1367.09\n",
      "3         China    Beijing  15270     0.964        76.4     1415.05\n",
      "4  South Africa   Pretoria    370     0.943        63.6       57.40\n"
     ]
    }
   ],
   "source": [
    "print(data)"
   ]
  },
  {
   "cell_type": "code",
   "execution_count": 4,
   "id": "2057673b",
   "metadata": {},
   "outputs": [
    {
     "name": "stdout",
     "output_type": "stream",
     "text": [
      "                gdp  literacy  expectancy   population\n",
      "count      5.000000  5.000000    5.000000     5.000000\n",
      "mean    4650.000000  0.913800   71.660000   638.874000\n",
      "std     6036.587778  0.109976    5.547792   689.018692\n",
      "min      370.000000  0.721000   63.600000    57.400000\n",
      "25%     1658.000000  0.943000   68.800000   143.960000\n",
      "50%     2750.000000  0.944000   72.700000   210.870000\n",
      "75%     3202.000000  0.964000   76.400000  1367.090000\n",
      "max    15270.000000  0.997000   76.800000  1415.050000\n"
     ]
    }
   ],
   "source": [
    "print(data.describe())"
   ]
  },
  {
   "cell_type": "code",
   "execution_count": 6,
   "id": "f39a8c14",
   "metadata": {},
   "outputs": [
    {
     "name": "stdout",
     "output_type": "stream",
     "text": [
      "15270\n"
     ]
    }
   ],
   "source": [
    "print(max(data[\"gdp\"]))"
   ]
  },
  {
   "cell_type": "code",
   "execution_count": 8,
   "id": "6ad75b90",
   "metadata": {},
   "outputs": [
    {
     "name": "stdout",
     "output_type": "stream",
     "text": [
      "4650.0\n"
     ]
    }
   ],
   "source": [
    "print(data[\"gdp\"].mean())"
   ]
  },
  {
   "cell_type": "code",
   "execution_count": 9,
   "id": "2def9ae1",
   "metadata": {},
   "outputs": [
    {
     "data": {
      "text/plain": [
       "pandas.core.frame.DataFrame"
      ]
     },
     "execution_count": 9,
     "metadata": {},
     "output_type": "execute_result"
    }
   ],
   "source": [
    "type(data)"
   ]
  },
  {
   "cell_type": "code",
   "execution_count": null,
   "id": "a093ea4a",
   "metadata": {},
   "outputs": [],
   "source": []
  }
 ],
 "metadata": {
  "kernelspec": {
   "display_name": "Python 3 (ipykernel)",
   "language": "python",
   "name": "python3"
  },
  "language_info": {
   "codemirror_mode": {
    "name": "ipython",
    "version": 3
   },
   "file_extension": ".py",
   "mimetype": "text/x-python",
   "name": "python",
   "nbconvert_exporter": "python",
   "pygments_lexer": "ipython3",
   "version": "3.11.5"
  }
 },
 "nbformat": 4,
 "nbformat_minor": 5
}
