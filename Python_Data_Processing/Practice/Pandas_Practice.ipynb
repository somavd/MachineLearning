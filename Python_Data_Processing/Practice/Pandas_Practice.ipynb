{
 "cells": [
  {
   "cell_type": "code",
   "execution_count": 3,
   "id": "e44b4421",
   "metadata": {},
   "outputs": [],
   "source": [
    "import pandas as pd"
   ]
  },
  {
   "cell_type": "code",
   "execution_count": 4,
   "id": "f281c256",
   "metadata": {},
   "outputs": [],
   "source": [
    "data = pd.read_excel(\"brics.xlsx\")"
   ]
  },
  {
   "cell_type": "code",
   "execution_count": 5,
   "id": "e818110f",
   "metadata": {},
   "outputs": [
    {
     "name": "stdout",
     "output_type": "stream",
     "text": [
      "        country    capital    gdp  literacy  expectancy  population\n",
      "0        Brazil   Brasilia   2750     0.944        76.8      210.87\n",
      "1        Russia     Moscow   1658     0.997        72.7      143.96\n",
      "2         India  New Delhi   3202     0.721        68.8     1367.09\n",
      "3         China    Beijing  15270     0.964        76.4     1415.05\n",
      "4  South Africa   Pretoria    370     0.943        63.6       57.40\n"
     ]
    }
   ],
   "source": [
    "print(data)"
   ]
  },
  {
   "cell_type": "code",
   "execution_count": 6,
   "id": "2057673b",
   "metadata": {},
   "outputs": [
    {
     "name": "stdout",
     "output_type": "stream",
     "text": [
      "                gdp  literacy  expectancy   population\n",
      "count      5.000000  5.000000    5.000000     5.000000\n",
      "mean    4650.000000  0.913800   71.660000   638.874000\n",
      "std     6036.587778  0.109976    5.547792   689.018692\n",
      "min      370.000000  0.721000   63.600000    57.400000\n",
      "25%     1658.000000  0.943000   68.800000   143.960000\n",
      "50%     2750.000000  0.944000   72.700000   210.870000\n",
      "75%     3202.000000  0.964000   76.400000  1367.090000\n",
      "max    15270.000000  0.997000   76.800000  1415.050000\n"
     ]
    }
   ],
   "source": [
    "print(data.describe())"
   ]
  },
  {
   "cell_type": "code",
   "execution_count": 7,
   "id": "f39a8c14",
   "metadata": {},
   "outputs": [
    {
     "name": "stdout",
     "output_type": "stream",
     "text": [
      "15270\n"
     ]
    }
   ],
   "source": [
    "print(max(data[\"gdp\"]))"
   ]
  },
  {
   "cell_type": "code",
   "execution_count": 8,
   "id": "6ad75b90",
   "metadata": {},
   "outputs": [
    {
     "name": "stdout",
     "output_type": "stream",
     "text": [
      "4650.0\n"
     ]
    }
   ],
   "source": [
    "print(data[\"gdp\"].mean())"
   ]
  },
  {
   "cell_type": "code",
   "execution_count": 9,
   "id": "2def9ae1",
   "metadata": {},
   "outputs": [
    {
     "data": {
      "text/plain": [
       "pandas.core.frame.DataFrame"
      ]
     },
     "execution_count": 9,
     "metadata": {},
     "output_type": "execute_result"
    }
   ],
   "source": [
    "type(data)"
   ]
  },
  {
   "cell_type": "code",
   "execution_count": 10,
   "id": "a093ea4a",
   "metadata": {},
   "outputs": [
    {
     "name": "stdout",
     "output_type": "stream",
     "text": [
      "<class 'pandas.core.frame.DataFrame'>\n",
      "RangeIndex: 5 entries, 0 to 4\n",
      "Data columns (total 6 columns):\n",
      " #   Column      Non-Null Count  Dtype  \n",
      "---  ------      --------------  -----  \n",
      " 0   country     5 non-null      object \n",
      " 1   capital     5 non-null      object \n",
      " 2   gdp         5 non-null      int64  \n",
      " 3   literacy    5 non-null      float64\n",
      " 4   expectancy  5 non-null      float64\n",
      " 5   population  5 non-null      float64\n",
      "dtypes: float64(3), int64(1), object(2)\n",
      "memory usage: 372.0+ bytes\n",
      "None\n"
     ]
    }
   ],
   "source": [
    "print(data.info())"
   ]
  },
  {
   "cell_type": "code",
   "execution_count": 11,
   "id": "1af0eca1",
   "metadata": {},
   "outputs": [
    {
     "name": "stdout",
     "output_type": "stream",
     "text": [
      "        country    capital    gdp  literacy  expectancy  population\n",
      "0        Brazil   Brasilia   2750     0.944        76.8      210.87\n",
      "1        Russia     Moscow   1658     0.997        72.7      143.96\n",
      "2         India  New Delhi   3202     0.721        68.8     1367.09\n",
      "3         China    Beijing  15270     0.964        76.4     1415.05\n",
      "4  South Africa   Pretoria    370     0.943        63.6       57.40\n"
     ]
    }
   ],
   "source": [
    "print(data.head())"
   ]
  },
  {
   "cell_type": "code",
   "execution_count": 12,
   "id": "88562c28",
   "metadata": {},
   "outputs": [
    {
     "name": "stdout",
     "output_type": "stream",
     "text": [
      "                gdp\n",
      "count      5.000000\n",
      "mean    4650.000000\n",
      "std     6036.587778\n",
      "min      370.000000\n",
      "25%     1658.000000\n",
      "50%     2750.000000\n",
      "75%     3202.000000\n",
      "max    15270.000000\n"
     ]
    }
   ],
   "source": [
    "print(data[[\"gdp\"]].describe())"
   ]
  },
  {
   "cell_type": "code",
   "execution_count": 16,
   "id": "466f6b69",
   "metadata": {},
   "outputs": [
    {
     "name": "stdout",
     "output_type": "stream",
     "text": [
      "gdp\n",
      "2750     1\n",
      "1658     1\n",
      "3202     1\n",
      "15270    1\n",
      "370      1\n",
      "Name: count, dtype: int64\n"
     ]
    }
   ],
   "source": [
    "print(data[\"gdp\"].value_counts())"
   ]
  },
  {
   "cell_type": "code",
   "execution_count": 17,
   "id": "6857d45d",
   "metadata": {},
   "outputs": [
    {
     "name": "stdout",
     "output_type": "stream",
     "text": [
      "gdp\n",
      "2750     0.2\n",
      "1658     0.2\n",
      "3202     0.2\n",
      "15270    0.2\n",
      "370      0.2\n",
      "Name: proportion, dtype: float64\n"
     ]
    }
   ],
   "source": [
    "print(data[\"gdp\"].value_counts(normalize=True))"
   ]
  },
  {
   "cell_type": "code",
   "execution_count": 14,
   "id": "8fbf0b8c",
   "metadata": {},
   "outputs": [
    {
     "name": "stdout",
     "output_type": "stream",
     "text": [
      "gdp    4650.0\n",
      "dtype: float64\n"
     ]
    }
   ],
   "source": [
    "print(data[[\"gdp\"]].mean())"
   ]
  },
  {
   "cell_type": "code",
   "execution_count": 18,
   "id": "857886c7",
   "metadata": {},
   "outputs": [
    {
     "name": "stdout",
     "output_type": "stream",
     "text": [
      "                  gdp\n",
      "country              \n",
      "Brazil         2750.0\n",
      "China         15270.0\n",
      "India          3202.0\n",
      "Russia         1658.0\n",
      "South Africa    370.0\n"
     ]
    }
   ],
   "source": [
    "print(data.groupby(\"country\")[[\"gdp\"]].mean())"
   ]
  },
  {
   "cell_type": "code",
   "execution_count": 21,
   "id": "4e21b6c1",
   "metadata": {},
   "outputs": [
    {
     "name": "stdout",
     "output_type": "stream",
     "text": [
      "                  gdp\n",
      "country              \n",
      "South Africa    370.0\n",
      "Russia         1658.0\n",
      "Brazil         2750.0\n",
      "India          3202.0\n",
      "China         15270.0\n"
     ]
    }
   ],
   "source": [
    "print(data.groupby(\"country\")[[\"gdp\"]].mean().sort_values(by=\"gdp\"))"
   ]
  },
  {
   "cell_type": "code",
   "execution_count": 24,
   "id": "7c0ffea8",
   "metadata": {},
   "outputs": [
    {
     "name": "stdout",
     "output_type": "stream",
     "text": [
      "                gdp                         \n",
      "                min    max     mean   median\n",
      "country                                     \n",
      "Brazil         2750   2750   2750.0   2750.0\n",
      "China         15270  15270  15270.0  15270.0\n",
      "India          3202   3202   3202.0   3202.0\n",
      "Russia         1658   1658   1658.0   1658.0\n",
      "South Africa    370    370    370.0    370.0\n"
     ]
    }
   ],
   "source": [
    "print(data.groupby(\"country\")[[\"gdp\"]].agg([\"min\", \"max\", \"mean\", \"median\"]))"
   ]
  },
  {
   "cell_type": "code",
   "execution_count": null,
   "id": "25e8acdd",
   "metadata": {},
   "outputs": [],
   "source": []
  }
 ],
 "metadata": {
  "kernelspec": {
   "display_name": "Python 3 (ipykernel)",
   "language": "python",
   "name": "python3"
  },
  "language_info": {
   "codemirror_mode": {
    "name": "ipython",
    "version": 3
   },
   "file_extension": ".py",
   "mimetype": "text/x-python",
   "name": "python",
   "nbconvert_exporter": "python",
   "pygments_lexer": "ipython3",
   "version": "3.11.5"
  }
 },
 "nbformat": 4,
 "nbformat_minor": 5
}
